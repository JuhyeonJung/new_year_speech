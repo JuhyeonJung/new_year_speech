{
 "cells": [
  {
   "cell_type": "code",
   "execution_count": 1,
   "id": "8a99e738",
   "metadata": {},
   "outputs": [],
   "source": [
    "import pandas as pd"
   ]
  },
  {
   "cell_type": "code",
   "execution_count": 2,
   "id": "dc890757",
   "metadata": {},
   "outputs": [],
   "source": [
    "from ast import literal_eval\n",
    "data=pd.read_csv('preprocessing.csv', converters={'전문2': literal_eval})"
   ]
  },
  {
   "cell_type": "code",
   "execution_count": 3,
   "id": "0be02c10",
   "metadata": {},
   "outputs": [],
   "source": [
    "def flatten(l):\n",
    "    flatList=[]\n",
    "    for elem in l:\n",
    "        if type(elem) == list:\n",
    "            for e in elem:\n",
    "                flatList.append(e)\n",
    "        else:\n",
    "            flatList.append(elem)\n",
    "    return flatList"
   ]
  },
  {
   "cell_type": "code",
   "execution_count": 29,
   "id": "b79d5359",
   "metadata": {},
   "outputs": [
    {
     "data": {
      "text/plain": [
       "['정부기관',\n",
       " '정유업',\n",
       " '중공업',\n",
       " '화장품 제조업',\n",
       " '바이오',\n",
       " '통신',\n",
       " '유통',\n",
       " '금융업',\n",
       " '전자',\n",
       " '생활용품',\n",
       " '항공업',\n",
       " 'IT',\n",
       " '자동차',\n",
       " '건설업']"
      ]
     },
     "execution_count": 29,
     "metadata": {},
     "output_type": "execute_result"
    }
   ],
   "source": [
    "san_list = list(set(data['산업군']))\n",
    "san_list"
   ]
  },
  {
   "cell_type": "code",
   "execution_count": 38,
   "id": "b3738c98",
   "metadata": {},
   "outputs": [],
   "source": [
    "df_list = []\n",
    "for x in san_list:\n",
    "    cleaned_nouns = flatten(data['전문2'][data['산업군'] == x])\n",
    "    df = pd.DataFrame(pd.Series((cleaned_nouns)).value_counts().head(30))\n",
    "    df.reset_index(inplace=True)\n",
    "    df['산업군'] = x\n",
    "    df = df[['산업군','index',0]]\n",
    "    df1 = pd.DataFrame(df['index'])\n",
    "    df.to_excel('freq_edge\\\\' + x + 'edge.xlsx',encoding = 'utf-8',index=None)\n",
    "    df1.to_excel('freq_node\\\\' + x + 'node.xlsx',encoding = 'utf-8',index=None)"
   ]
  },
  {
   "cell_type": "markdown",
   "id": "c1fa9bdd",
   "metadata": {},
   "source": [
    "\n",
    "### Wordcloud_기업별"
   ]
  },
  {
   "cell_type": "code",
   "execution_count": 39,
   "id": "ba5ec849",
   "metadata": {},
   "outputs": [],
   "source": [
    "def __array__(self):\n",
    "    \"\"\"Convert to numpy array.\n",
    "    Returns \n",
    "    -------\n",
    "    image : nd-array size (width, height, 3)\n",
    "        Word cloud image as numpy matrix.\n",
    "    \"\"\"\n",
    "    return self.to_array()\n",
    "def to_array(self):\n",
    "    return np.array(self.to_image())\n"
   ]
  },
  {
   "cell_type": "code",
   "execution_count": 40,
   "id": "09f80bac",
   "metadata": {},
   "outputs": [],
   "source": [
    "from wordcloud import WordCloud\n",
    "from collections import Counter\n",
    "import matplotlib.pyplot as plt\n",
    "\n",
    "%matplotlib inline"
   ]
  },
  {
   "cell_type": "code",
   "execution_count": 42,
   "id": "f00e1334",
   "metadata": {},
   "outputs": [],
   "source": [
    "#윈도우용 font_path = 'C:/Windows/Fonts/malgun.ttf'\n",
    "font_path='C:/Windows/Fonts/malgun.ttf'\n",
    "wordcloud=WordCloud(font_path=font_path, width=800, height=800, \n",
    "                    background_color=\"white\", colormap=\"Set2\")"
   ]
  },
  {
   "cell_type": "code",
   "execution_count": 47,
   "id": "e159be9b",
   "metadata": {},
   "outputs": [],
   "source": [
    "com_list = list(set(data['기업명']))"
   ]
  },
  {
   "cell_type": "code",
   "execution_count": null,
   "id": "02a136a4",
   "metadata": {},
   "outputs": [],
   "source": [
    "for x in com_list:\n",
    "    cleaned_nouns = flatten(data['전문2'][data['기업명'] == x])\n",
    "    wordcloud=wordcloud.generate_from_frequencies(Counter(cleaned_nouns))\n",
    "    array=wordcloud.to_array()\n",
    "    fig=plt.figure(figsize=(10,10))\n",
    "    plt.imshow(array, interpolation=\"bilinear\")\n",
    "    plt.savefig('Word_cloud_기업별(jh)\\\\' + x + '.png',dpi=600)"
   ]
  },
  {
   "cell_type": "code",
   "execution_count": null,
   "id": "9f02ff92",
   "metadata": {},
   "outputs": [],
   "source": []
  }
 ],
 "metadata": {
  "kernelspec": {
   "display_name": "Python 3",
   "language": "python",
   "name": "python3"
  },
  "language_info": {
   "codemirror_mode": {
    "name": "ipython",
    "version": 3
   },
   "file_extension": ".py",
   "mimetype": "text/x-python",
   "name": "python",
   "nbconvert_exporter": "python",
   "pygments_lexer": "ipython3",
   "version": "3.8.10"
  }
 },
 "nbformat": 4,
 "nbformat_minor": 5
}
