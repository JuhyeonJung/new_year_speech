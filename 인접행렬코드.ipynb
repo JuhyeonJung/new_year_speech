{
 "cells": [
  {
   "cell_type": "code",
   "execution_count": 1,
   "metadata": {
    "id": "5nNJUXTqbw7f"
   },
   "outputs": [],
   "source": [
    "import pandas as pd"
   ]
  },
  {
   "cell_type": "code",
   "execution_count": 2,
   "metadata": {},
   "outputs": [],
   "source": [
    "data=pd.read_csv('preprocessing.csv')"
   ]
  },
  {
   "cell_type": "code",
   "execution_count": 3,
   "metadata": {
    "id": "-1r1WwkHbw7i",
    "outputId": "ce739b4a-074e-4547-f176-6c8acf7a0082"
   },
   "outputs": [
    {
     "data": {
      "text/html": [
       "<div>\n",
       "<style scoped>\n",
       "    .dataframe tbody tr th:only-of-type {\n",
       "        vertical-align: middle;\n",
       "    }\n",
       "\n",
       "    .dataframe tbody tr th {\n",
       "        vertical-align: top;\n",
       "    }\n",
       "\n",
       "    .dataframe thead th {\n",
       "        text-align: right;\n",
       "    }\n",
       "</style>\n",
       "<table border=\"1\" class=\"dataframe\">\n",
       "  <thead>\n",
       "    <tr style=\"text-align: right;\">\n",
       "      <th></th>\n",
       "      <th>산업군</th>\n",
       "      <th>기업명</th>\n",
       "      <th>연도</th>\n",
       "      <th>발표자</th>\n",
       "      <th>전문</th>\n",
       "      <th>출처</th>\n",
       "      <th>전문1</th>\n",
       "      <th>전문2</th>\n",
       "    </tr>\n",
       "  </thead>\n",
       "  <tbody>\n",
       "    <tr>\n",
       "      <th>0</th>\n",
       "      <td>전자</td>\n",
       "      <td>삼성전자</td>\n",
       "      <td>2021</td>\n",
       "      <td>김기남</td>\n",
       "      <td>김기남 삼성전자 부회장은 \"변화 물결 속에서 한 단계 더 도약하기 위해 2021년은...</td>\n",
       "      <td>출처 : https://biz.chosun.com/site/data/html_dir...</td>\n",
       "      <td>김기남 삼성전자 부회장은 변화 물결 속에서 한 단계 더 도약하기 위해 년은 변화에 ...</td>\n",
       "      <td>['변화', '물결', '단계', '도약', '변화', '대응', '미래', '준비...</td>\n",
       "    </tr>\n",
       "    <tr>\n",
       "      <th>1</th>\n",
       "      <td>전자</td>\n",
       "      <td>삼성전자</td>\n",
       "      <td>2020</td>\n",
       "      <td>김기남</td>\n",
       "      <td>김기남 삼성전자 부회장은 2일 \"경기변화에 강건한 사업 체질을 만들자\"고 강조했다....</td>\n",
       "      <td>출처 : https://biz.chosun.com/site/data/html_dir...</td>\n",
       "      <td>김기남 삼성전자 부회장은 일 경기변화에 강건한 사업 체질을 만들자 고 강조했다 김 ...</td>\n",
       "      <td>['변화', '사업', '체질', '디지털', '시티', '경영진', '참석', '...</td>\n",
       "    </tr>\n",
       "    <tr>\n",
       "      <th>2</th>\n",
       "      <td>전자</td>\n",
       "      <td>삼성전자</td>\n",
       "      <td>2019</td>\n",
       "      <td>김기남</td>\n",
       "      <td>삼성전자는 2일 수원 삼성 디지털시티에서 김기남 부회장, 김현석 사장, 고동진 사장...</td>\n",
       "      <td>출처 : http://it.chosun.com/site/data/html_dir/2...</td>\n",
       "      <td>삼성전자는 일 수원 삼성 디지털시티에서 김기남 부회장 김현석 사장 고동진 사장 등 ...</td>\n",
       "      <td>['디지털', '시티', '사장단', '참석', '글로벌', '경제', '위기', ...</td>\n",
       "    </tr>\n",
       "    <tr>\n",
       "      <th>3</th>\n",
       "      <td>전자</td>\n",
       "      <td>삼성전자</td>\n",
       "      <td>2018</td>\n",
       "      <td>김기남</td>\n",
       "      <td>김기남 삼성전자디바이스솔루션(DS) 부문장(사장⋅사진)은 2일 삼성전자 시무식에서 ...</td>\n",
       "      <td>출처 : https://biz.chosun.com/site/data/html_dir...</td>\n",
       "      <td>김기남 삼성전자디바이스솔루션 DS 부문장 사장 사진 은 일 삼성전자 시무식에서 작년...</td>\n",
       "      <td>['디바이스', '솔루션', '문장', '성과', '자만', '초심', '변화', ...</td>\n",
       "    </tr>\n",
       "    <tr>\n",
       "      <th>4</th>\n",
       "      <td>전자</td>\n",
       "      <td>삼성전자</td>\n",
       "      <td>2017</td>\n",
       "      <td>권오현</td>\n",
       "      <td>권오현 삼성전자 부회장은 새해를 맞아 임직원들에게 '새로운 시작'과 '완벽한 쇄신'...</td>\n",
       "      <td>출처 : http://it.chosun.com/site/data/html_dir/2...</td>\n",
       "      <td>권오현 삼성전자 부회장은 새해를 맞아 임직원들에게 새로운 시작 과 완벽한 쇄신 을 ...</td>\n",
       "      <td>['시작', '완벽', '쇄신', '주문', '디지털', '시티', '참석', '경...</td>\n",
       "    </tr>\n",
       "  </tbody>\n",
       "</table>\n",
       "</div>"
      ],
      "text/plain": [
       "  산업군   기업명    연도  발표자                                                 전문  \\\n",
       "0  전자  삼성전자  2021  김기남  김기남 삼성전자 부회장은 \"변화 물결 속에서 한 단계 더 도약하기 위해 2021년은...   \n",
       "1  전자  삼성전자  2020  김기남  김기남 삼성전자 부회장은 2일 \"경기변화에 강건한 사업 체질을 만들자\"고 강조했다....   \n",
       "2  전자  삼성전자  2019  김기남  삼성전자는 2일 수원 삼성 디지털시티에서 김기남 부회장, 김현석 사장, 고동진 사장...   \n",
       "3  전자  삼성전자  2018  김기남  김기남 삼성전자디바이스솔루션(DS) 부문장(사장⋅사진)은 2일 삼성전자 시무식에서 ...   \n",
       "4  전자  삼성전자  2017  권오현  권오현 삼성전자 부회장은 새해를 맞아 임직원들에게 '새로운 시작'과 '완벽한 쇄신'...   \n",
       "\n",
       "                                                  출처  \\\n",
       "0  출처 : https://biz.chosun.com/site/data/html_dir...   \n",
       "1  출처 : https://biz.chosun.com/site/data/html_dir...   \n",
       "2  출처 : http://it.chosun.com/site/data/html_dir/2...   \n",
       "3  출처 : https://biz.chosun.com/site/data/html_dir...   \n",
       "4  출처 : http://it.chosun.com/site/data/html_dir/2...   \n",
       "\n",
       "                                                 전문1  \\\n",
       "0  김기남 삼성전자 부회장은 변화 물결 속에서 한 단계 더 도약하기 위해 년은 변화에 ...   \n",
       "1  김기남 삼성전자 부회장은 일 경기변화에 강건한 사업 체질을 만들자 고 강조했다 김 ...   \n",
       "2  삼성전자는 일 수원 삼성 디지털시티에서 김기남 부회장 김현석 사장 고동진 사장 등 ...   \n",
       "3  김기남 삼성전자디바이스솔루션 DS 부문장 사장 사진 은 일 삼성전자 시무식에서 작년...   \n",
       "4  권오현 삼성전자 부회장은 새해를 맞아 임직원들에게 새로운 시작 과 완벽한 쇄신 을 ...   \n",
       "\n",
       "                                                 전문2  \n",
       "0  ['변화', '물결', '단계', '도약', '변화', '대응', '미래', '준비...  \n",
       "1  ['변화', '사업', '체질', '디지털', '시티', '경영진', '참석', '...  \n",
       "2  ['디지털', '시티', '사장단', '참석', '글로벌', '경제', '위기', ...  \n",
       "3  ['디바이스', '솔루션', '문장', '성과', '자만', '초심', '변화', ...  \n",
       "4  ['시작', '완벽', '쇄신', '주문', '디지털', '시티', '참석', '경...  "
      ]
     },
     "execution_count": 3,
     "metadata": {},
     "output_type": "execute_result"
    }
   ],
   "source": [
    "data.head()"
   ]
  },
  {
   "cell_type": "code",
   "execution_count": 4,
   "metadata": {},
   "outputs": [],
   "source": [
    "def replacing(x):\n",
    "    x=x.replace(\"[\",\"\")\n",
    "    x=x.replace(\"]\",\"\")\n",
    "    x=x.replace(\",\",\"\")\n",
    "    x=x.replace(\"'\",\"\")\n",
    "    return x"
   ]
  },
  {
   "cell_type": "code",
   "execution_count": 5,
   "metadata": {},
   "outputs": [],
   "source": [
    "data['전문3'] = data['전문2'].apply(replacing)"
   ]
  },
  {
   "cell_type": "code",
   "execution_count": 6,
   "metadata": {},
   "outputs": [
    {
     "data": {
      "text/plain": [
       "0      변화 물결 단계 도약 변화 대응 미래 준비 원년 코로나 인해 사회 경제 전반 변화 ...\n",
       "1      변화 사업 체질 디지털 시티 경영진 참석 세계 경제 글로벌 성장 기조 고착 정치 불...\n",
       "2      디지털 시티 사장단 참석 글로벌 경제 위기 극복 세계 IT 기업 도약 일류 격차 기...\n",
       "3      디바이스 솔루션 문장 성과 자만 초심 변화 도전 디지털 시티 문장 취임 사장단 직전...\n",
       "4      시작 완벽 쇄신 주문 디지털 시티 참석 경험 교훈 완벽 쇄신 경험 발생 갤럭시 노트...\n",
       "                             ...                        \n",
       "210    코로나 인해 생활 변화 겨울철 확산 악화 일로 안녕 순간 국내 해외 현장 전력 위로...\n",
       "211    사업 구조 조직 역량 정비 원년 골자 건축 분야 국내 시장 위축 우려 역할 주문 인...\n",
       "212                                                     \n",
       "213    슬로건 아래 라운드 작전 수행 목표 경영 계획 초과 달성 성공 영업 현장 최전선 회...\n",
       "214    어둠 새벽 태양 희망 태양 진심 창사 시기 문제 해결 주력 기회 활동 집중 시기 변...\n",
       "Name: 전문3, Length: 215, dtype: object"
      ]
     },
     "execution_count": 6,
     "metadata": {},
     "output_type": "execute_result"
    }
   ],
   "source": [
    "data['전문3']"
   ]
  },
  {
   "cell_type": "code",
   "execution_count": 35,
   "metadata": {
    "scrolled": true
   },
   "outputs": [
    {
     "data": {
      "text/plain": [
       "['항공업',\n",
       " '정유업',\n",
       " '정부기관',\n",
       " '자동차',\n",
       " '금융업',\n",
       " '생활용품',\n",
       " 'IT',\n",
       " '전자',\n",
       " '화장품 제조업',\n",
       " '중공업',\n",
       " '유통',\n",
       " '건설업',\n",
       " '바이오',\n",
       " '통신']"
      ]
     },
     "execution_count": 35,
     "metadata": {},
     "output_type": "execute_result"
    }
   ],
   "source": [
    "san_list = list(set(data['산업군']))\n",
    "san_list"
   ]
  },
  {
   "cell_type": "markdown",
   "metadata": {},
   "source": [
    "### 산업군별"
   ]
  },
  {
   "cell_type": "code",
   "execution_count": 49,
   "metadata": {},
   "outputs": [],
   "source": [
    "df_list = []\n",
    "for x in san_list:\n",
    "    X = cv.fit_transform(data['전문3'][data['산업군']==x].astype('U'))\n",
    "    Co_ocurrence = (X.T * X) # This is the matrix manipulation step\n",
    "    Co_ocurrence.setdiag(0)\n",
    "    names = cv.get_feature_names() # This are the entity names (i.e. keywords)\n",
    "    df = pd.DataFrame(data = Co_ocurrence.toarray(), columns = names, index = names)\n",
    "    df.to_excel('adjacency matrix_산업군별\\\\' + x + '.xlsx',encoding = 'utf-8')"
   ]
  },
  {
   "cell_type": "markdown",
   "metadata": {},
   "source": [
    "### 연도별"
   ]
  },
  {
   "cell_type": "code",
   "execution_count": 50,
   "metadata": {},
   "outputs": [],
   "source": [
    "year_list = [2017,2018,2019,2020,2021]"
   ]
  },
  {
   "cell_type": "code",
   "execution_count": 53,
   "metadata": {},
   "outputs": [],
   "source": [
    "df_list = []\n",
    "for x in year_list:\n",
    "    X = cv.fit_transform(data['전문3'][data['연도']==x].astype('U'))\n",
    "    Co_ocurrence = (X.T * X) # This is the matrix manipulation step\n",
    "    Co_ocurrence.setdiag(0)\n",
    "    names = cv.get_feature_names() # This are the entity names (i.e. keywords)\n",
    "    df = pd.DataFrame(data = Co_ocurrence.toarray(), columns = names, index = names)\n",
    "    df.to_excel('adjacency matrix_연도별\\\\' + str(x) + '.xlsx',encoding = 'utf-8')"
   ]
  }
 ],
 "metadata": {
  "colab": {
   "collapsed_sections": [],
   "name": "network2_Schwinn.ipynb",
   "provenance": []
  },
  "kernelspec": {
   "display_name": "Python 3",
   "language": "python",
   "name": "python3"
  },
  "language_info": {
   "codemirror_mode": {
    "name": "ipython",
    "version": 3
   },
   "file_extension": ".py",
   "mimetype": "text/x-python",
   "name": "python",
   "nbconvert_exporter": "python",
   "pygments_lexer": "ipython3",
   "version": "3.8.10"
  }
 },
 "nbformat": 4,
 "nbformat_minor": 1
}
